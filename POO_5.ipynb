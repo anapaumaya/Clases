{
  "nbformat": 4,
  "nbformat_minor": 0,
  "metadata": {
    "colab": {
      "provenance": []
    },
    "kernelspec": {
      "name": "python3",
      "display_name": "Python 3"
    },
    "language_info": {
      "name": "python"
    }
  },
  "cells": [
    {
      "cell_type": "markdown",
      "source": [
        "#Clases, herencias y polimorfismos\n"
      ],
      "metadata": {
        "id": "ELB3z1BdkdvO"
      }
    },
    {
      "cell_type": "markdown",
      "source": [
        "##Definciones"
      ],
      "metadata": {
        "id": "ahcW6vDdnnMT"
      }
    },
    {
      "cell_type": "code",
      "source": [
        "#Vamos a crear una definición (que es una función inspirada en Python)\n",
        "def Milanesi(a,b,c):\n",
        "  x= a+b*c\n",
        "  return     x"
      ],
      "metadata": {
        "id": "uQl4pukPnizt"
      },
      "execution_count": null,
      "outputs": []
    },
    {
      "cell_type": "code",
      "source": [
        "Milanesi(1,2,3)"
      ],
      "metadata": {
        "colab": {
          "base_uri": "https://localhost:8080/"
        },
        "id": "byVbriqGnphc",
        "outputId": "ecaccce3-022d-4c92-e5ae-496ae51ac3e4"
      },
      "execution_count": null,
      "outputs": [
        {
          "output_type": "execute_result",
          "data": {
            "text/plain": [
              "7"
            ]
          },
          "metadata": {},
          "execution_count": 3
        }
      ]
    },
    {
      "cell_type": "code",
      "source": [
        "#Vamos a crear una definición que calcule la inversa de una matriz\n",
        "import numpy as np\n",
        "\n",
        "def Inv_Matrix(M):\n",
        "  x=np.linalg.inv(M)\n",
        "  return x"
      ],
      "metadata": {
        "id": "Lhl9SJ6jpjyN"
      },
      "execution_count": null,
      "outputs": []
    },
    {
      "cell_type": "code",
      "source": [
        "import pandas as pd"
      ],
      "metadata": {
        "id": "eJeQ2dY0sWdL"
      },
      "execution_count": null,
      "outputs": []
    },
    {
      "cell_type": "code",
      "source": [
        "import numpy as np\n",
        "\n",
        "A = np.array([[1,5,4], [8,1,0], [5,9,0]])"
      ],
      "metadata": {
        "id": "OqK2hskbtg6M"
      },
      "execution_count": null,
      "outputs": []
    },
    {
      "cell_type": "code",
      "source": [
        "Inv_Matrix(A)"
      ],
      "metadata": {
        "colab": {
          "base_uri": "https://localhost:8080/"
        },
        "id": "-pyllf0hu0OM",
        "outputId": "a6418919-6813-4138-c233-132db7256373"
      },
      "execution_count": null,
      "outputs": [
        {
          "output_type": "execute_result",
          "data": {
            "text/plain": [
              "array([[ 0.        ,  0.13432836, -0.01492537],\n",
              "       [ 0.        , -0.07462687,  0.11940299],\n",
              "       [ 0.25      ,  0.05970149, -0.14552239]])"
            ]
          },
          "metadata": {},
          "execution_count": 22
        }
      ]
    },
    {
      "cell_type": "code",
      "source": [],
      "metadata": {
        "id": "4oDQfa2Uu4i1"
      },
      "execution_count": null,
      "outputs": []
    }
  ]
}