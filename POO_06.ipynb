{
  "nbformat": 4,
  "nbformat_minor": 0,
  "metadata": {
    "colab": {
      "provenance": []
    },
    "kernelspec": {
      "name": "python3",
      "display_name": "Python 3"
    },
    "language_info": {
      "name": "python"
    }
  },
  "cells": [
    {
      "cell_type": "code",
      "execution_count": null,
      "metadata": {
        "colab": {
          "base_uri": "https://localhost:8080/"
        },
        "id": "jRPzwMyVaOSo",
        "outputId": "17c56f77-d65b-458d-8828-a91eb74e54ac"
      },
      "outputs": [
        {
          "output_type": "stream",
          "name": "stdout",
          "text": [
            "El número no es par \n"
          ]
        }
      ],
      "source": [
        "#Eejewmplo\n",
        "\n",
        "x=187\n",
        "\n",
        "if x % 2==0:\n",
        "  if x > 10:\n",
        "    print(\"El número es par y es mayor a 10\")\n",
        "  else:\n",
        "    print(\"El número es par pero no es mayor a 10\")\n",
        "else:\n",
        "    print(\"El número no es par \")\n"
      ]
    }
  ]
}