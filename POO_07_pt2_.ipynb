{
  "nbformat": 4,
  "nbformat_minor": 0,
  "metadata": {
    "colab": {
      "provenance": []
    },
    "kernelspec": {
      "name": "python3",
      "display_name": "Python 3"
    },
    "language_info": {
      "name": "python"
    }
  },
  "cells": [
    {
      "cell_type": "markdown",
      "source": [
        "#Clases y polimorfismos"
      ],
      "metadata": {
        "id": "hH-Vmk5wmYtc"
      }
    },
    {
      "cell_type": "code",
      "execution_count": 2,
      "metadata": {
        "id": "KggkzOcOmXya"
      },
      "outputs": [],
      "source": [
        "class Mascota:\n",
        "  def hable(self):\n",
        "    return NotImplementedError\n",
        "class Perro (Mascota):\n",
        "  def hable(self):\n",
        "    return \"Woof\"\n",
        "class Gato(Mascota):\n",
        "  def hable(self):\n",
        "    return \"Miau\""
      ]
    },
    {
      "cell_type": "code",
      "source": [
        "#Vamos a crear una lista de Mascotas\n",
        "mascotas = [Perro(), Gato()] #generador de objetos dentro de la clase"
      ],
      "metadata": {
        "id": "23iIgYuooKM6"
      },
      "execution_count": 3,
      "outputs": []
    },
    {
      "cell_type": "code",
      "source": [
        "mascotas"
      ],
      "metadata": {
        "colab": {
          "base_uri": "https://localhost:8080/"
        },
        "id": "Yran-Y4IoZzN",
        "outputId": "c5817809-b787-4625-acc8-b3d706dfc3db"
      },
      "execution_count": 4,
      "outputs": [
        {
          "output_type": "execute_result",
          "data": {
            "text/plain": [
              "[<__main__.Perro at 0x7bc69f3836d0>, <__main__.Gato at 0x7bc69f3835e0>]"
            ]
          },
          "metadata": {},
          "execution_count": 4
        }
      ]
    },
    {
      "cell_type": "code",
      "source": [
        "for mascotas in mascotas:\n",
        "  print(mascotas.hable())"
      ],
      "metadata": {
        "colab": {
          "base_uri": "https://localhost:8080/"
        },
        "id": "Asnctk7wpb88",
        "outputId": "c29d5e65-8c17-4253-e536-7498c33801fa"
      },
      "execution_count": 5,
      "outputs": [
        {
          "output_type": "stream",
          "name": "stdout",
          "text": [
            "Woof\n",
            "Miau\n"
          ]
        }
      ]
    },
    {
      "cell_type": "code",
      "source": [
        "class Mascota:\n",
        "  def hable(self):\n",
        "    return NotImplementedError\n",
        "class Pato (Mascota):\n",
        "  def hable(self):\n",
        "    return \"Quack\"\n",
        "class Tigre(Mascota):\n",
        "  def hable(self):\n",
        "    return \"Roar\"\n",
        "class Cerdito(Mascota):\n",
        "  def hable(self):\n",
        "    return \"Oink oink\"\n",
        "class Lobo(Mascota):\n",
        "  def hable(self):\n",
        "    return \"Auuu\"\n"
      ],
      "metadata": {
        "id": "LS36E6RQqCsI"
      },
      "execution_count": 10,
      "outputs": []
    },
    {
      "cell_type": "code",
      "source": [
        "mascotas = [Pato(), Tigre(), Cerdito(), Lobo()]"
      ],
      "metadata": {
        "id": "MYP3X5gnqtVc"
      },
      "execution_count": 12,
      "outputs": []
    },
    {
      "cell_type": "code",
      "source": [
        "mascotas"
      ],
      "metadata": {
        "colab": {
          "base_uri": "https://localhost:8080/"
        },
        "id": "ADRg40jeq4TZ",
        "outputId": "86a041eb-9e57-44d8-a718-4d53b4031737"
      },
      "execution_count": 13,
      "outputs": [
        {
          "output_type": "execute_result",
          "data": {
            "text/plain": [
              "[<__main__.Pato at 0x7bc6d02bfc70>,\n",
              " <__main__.Tigre at 0x7bc6d02bec50>,\n",
              " <__main__.Cerdito at 0x7bc6d02bfcd0>,\n",
              " <__main__.Lobo at 0x7bc6d02bff10>]"
            ]
          },
          "metadata": {},
          "execution_count": 13
        }
      ]
    },
    {
      "cell_type": "code",
      "source": [
        "for mascotas in mascotas:\n",
        "  print(mascotas.hable())"
      ],
      "metadata": {
        "colab": {
          "base_uri": "https://localhost:8080/"
        },
        "id": "wR0ZZrfUq7V-",
        "outputId": "cea64410-13b4-4ff8-e767-82d22bf6e850"
      },
      "execution_count": 14,
      "outputs": [
        {
          "output_type": "stream",
          "name": "stdout",
          "text": [
            "Quack\n",
            "Roar\n",
            "Oink oink\n",
            "Auuu\n"
          ]
        }
      ]
    },
    {
      "cell_type": "code",
      "source": [
        "class Persona:\n",
        "  def __init__(self,nombre,edad):\n",
        "    self.nombre = nombre\n",
        "    self.edad = edad"
      ],
      "metadata": {
        "id": "-7YYlSbCrA-j"
      },
      "execution_count": 15,
      "outputs": []
    },
    {
      "cell_type": "code",
      "source": [
        "Daniela =Persona(\"Daniela\", 21)"
      ],
      "metadata": {
        "id": "xkfQr8Lhrc3q"
      },
      "execution_count": 17,
      "outputs": []
    },
    {
      "cell_type": "code",
      "source": [
        "Daniela.nombre"
      ],
      "metadata": {
        "colab": {
          "base_uri": "https://localhost:8080/",
          "height": 35
        },
        "id": "5-vZKy90rqly",
        "outputId": "85efafbf-2b5d-4b08-dfd0-7a6c6a71a83d"
      },
      "execution_count": 18,
      "outputs": [
        {
          "output_type": "execute_result",
          "data": {
            "text/plain": [
              "'Daniela'"
            ],
            "application/vnd.google.colaboratory.intrinsic+json": {
              "type": "string"
            }
          },
          "metadata": {},
          "execution_count": 18
        }
      ]
    },
    {
      "cell_type": "code",
      "source": [
        "Daniela.edad"
      ],
      "metadata": {
        "colab": {
          "base_uri": "https://localhost:8080/"
        },
        "id": "dNnoC258rtY8",
        "outputId": "5228ef3d-5a97-4594-c23f-b65bc5048c25"
      },
      "execution_count": 19,
      "outputs": [
        {
          "output_type": "execute_result",
          "data": {
            "text/plain": [
              "21"
            ]
          },
          "metadata": {},
          "execution_count": 19
        }
      ]
    }
  ]
}