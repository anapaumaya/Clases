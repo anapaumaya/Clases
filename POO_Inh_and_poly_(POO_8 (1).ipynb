{
  "nbformat": 4,
  "nbformat_minor": 0,
  "metadata": {
    "colab": {
      "provenance": []
    },
    "kernelspec": {
      "name": "python3",
      "display_name": "Python 3"
    },
    "language_info": {
      "name": "python"
    }
  },
  "cells": [
    {
      "cell_type": "markdown",
      "source": [
        "#Inheritance and polymorphism in pyhton"
      ],
      "metadata": {
        "id": "lUnt8jSqwoTz"
      }
    },
    {
      "cell_type": "code",
      "source": [],
      "metadata": {
        "id": "WU7c-JcSwoo4"
      },
      "execution_count": null,
      "outputs": []
    },
    {
      "cell_type": "code",
      "execution_count": null,
      "metadata": {
        "id": "SDR6bfqFrdJf"
      },
      "outputs": [],
      "source": []
    },
    {
      "cell_type": "code",
      "source": [
        "class Animal ():\n",
        "\n",
        "#Objeto al que se le asingarán disntitos atributos\n",
        "#def es el inicializador de la clase\n",
        "    def __init__(self):\n",
        "      print(\"Animal class creada\")\n",
        "\n",
        "    def guess_who(self):\n",
        "       print(\"Soy un animalito\")\n",
        "\n",
        "    def sleep (self):\n",
        "       print(\"Estoy durmiendo\")"
      ],
      "metadata": {
        "id": "fq2PtHPwrfiu"
      },
      "execution_count": null,
      "outputs": []
    },
    {
      "cell_type": "code",
      "source": [
        "#Cursores\n",
        "my_animal =Animal()"
      ],
      "metadata": {
        "colab": {
          "base_uri": "https://localhost:8080/"
        },
        "id": "rbvb5qM_rztd",
        "outputId": "3b9ee29c-40ff-4bfd-8459-6fb05b074bb3"
      },
      "execution_count": null,
      "outputs": [
        {
          "output_type": "stream",
          "name": "stdout",
          "text": [
            "Animal class creada\n"
          ]
        }
      ]
    },
    {
      "cell_type": "code",
      "source": [
        "#Ingresar la función \"sleep \" a la clase\n",
        "my_animal.sleep()\n"
      ],
      "metadata": {
        "colab": {
          "base_uri": "https://localhost:8080/"
        },
        "id": "_XbqG3TCuJ1o",
        "outputId": "47d2cda1-108c-4154-8c7c-884063d8d80a"
      },
      "execution_count": null,
      "outputs": [
        {
          "output_type": "stream",
          "name": "stdout",
          "text": [
            "Estoy durmiendo\n"
          ]
        }
      ]
    },
    {
      "cell_type": "code",
      "source": [
        "#esta nueva clase se obtiene a partir de la clase anterior o (clase maestra) subordinados a esta\n",
        "class Cat(Animal):\n",
        "#el punto sirve para adjuntar todo de las funciones\n",
        "    def __init__(self): #inicilaizar funciones dentro de la clase Cat\n",
        "      Animal.__init__(self) #inicializar la clase maestra dentro de la subordinada\n",
        "      print (\"Cat class creada \")\n",
        "\n",
        "    def guess_who(self):\n",
        "        print(\"Soy un gatito\")\n",
        "\n",
        "    def meow (self):\n",
        "        print (\"MEOW!\")\n"
      ],
      "metadata": {
        "id": "z1ROxp1muNnx"
      },
      "execution_count": null,
      "outputs": []
    },
    {
      "cell_type": "code",
      "source": [
        "my_cat = Cat()"
      ],
      "metadata": {
        "colab": {
          "base_uri": "https://localhost:8080/"
        },
        "id": "_9imqlzqw4c3",
        "outputId": "76d925d6-1661-412f-eb54-ce10286cd77c"
      },
      "execution_count": null,
      "outputs": [
        {
          "output_type": "stream",
          "name": "stdout",
          "text": [
            "Animal class creada\n",
            "Cat class creada \n"
          ]
        }
      ]
    },
    {
      "cell_type": "code",
      "source": [
        "my_cat.guess_who()"
      ],
      "metadata": {
        "colab": {
          "base_uri": "https://localhost:8080/"
        },
        "id": "w4X_tYQvw9Xi",
        "outputId": "6f92c763-4730-439d-8e38-59069be4871a"
      },
      "execution_count": null,
      "outputs": [
        {
          "output_type": "stream",
          "name": "stdout",
          "text": [
            "Soy un gatito\n"
          ]
        }
      ]
    },
    {
      "cell_type": "code",
      "source": [
        "my_cat.meow()"
      ],
      "metadata": {
        "colab": {
          "base_uri": "https://localhost:8080/"
        },
        "id": "z379PcQDxOgD",
        "outputId": "42b9ebe7-69ed-4f89-818d-24f2115c5c95"
      },
      "execution_count": null,
      "outputs": [
        {
          "output_type": "stream",
          "name": "stdout",
          "text": [
            "MEOW!\n"
          ]
        }
      ]
    },
    {
      "cell_type": "markdown",
      "source": [
        "#Polymorphism"
      ],
      "metadata": {
        "id": "A6uLnEywxcFu"
      }
    },
    {
      "cell_type": "code",
      "source": [
        "#Polimorfismo son definiciones con argumenots"
      ],
      "metadata": {
        "id": "eyMCy67hnGiS"
      },
      "execution_count": null,
      "outputs": []
    },
    {
      "cell_type": "code",
      "source": [
        "from os import name\n",
        "class Doggy ():\n",
        "\n",
        "    def __init__(self,name):\n",
        "        self.name = name\n",
        "    def speak(self):\n",
        "        return self.name + \"dice WOOF\""
      ],
      "metadata": {
        "id": "1DFXefzexXsd"
      },
      "execution_count": null,
      "outputs": []
    },
    {
      "cell_type": "code",
      "source": [
        "class Caty():\n",
        "\n",
        "      def __init__(self, name, raza):\n",
        "         self.name = name\n",
        "         self.raza = raza\n",
        "         #self son argumentos\n",
        "      def speak(self):\n",
        "         return self.name + \"dice MEOW\"\n",
        "         #polimorfimos"
      ],
      "metadata": {
        "id": "3qawvzAIyskv"
      },
      "execution_count": null,
      "outputs": []
    },
    {
      "cell_type": "code",
      "source": [
        "my_dog = Doggy(\"dAKOTA\")"
      ],
      "metadata": {
        "id": "CF6ZSFL3zTXK"
      },
      "execution_count": null,
      "outputs": []
    },
    {
      "cell_type": "code",
      "source": [
        "my_dog.speak()"
      ],
      "metadata": {
        "colab": {
          "base_uri": "https://localhost:8080/",
          "height": 35
        },
        "id": "29TC-Rhz1yoZ",
        "outputId": "02a06378-5db6-4fdd-9b2c-d1101323d699"
      },
      "execution_count": null,
      "outputs": [
        {
          "output_type": "execute_result",
          "data": {
            "text/plain": [
              "'dAKOTAdice WOOF'"
            ],
            "application/vnd.google.colaboratory.intrinsic+json": {
              "type": "string"
            }
          },
          "metadata": {},
          "execution_count": 16
        }
      ]
    },
    {
      "cell_type": "code",
      "source": [
        "my_cat = Caty(\"Miau\", \"Egipcio\")"
      ],
      "metadata": {
        "id": "RBSr1XSEz0ep"
      },
      "execution_count": null,
      "outputs": []
    },
    {
      "cell_type": "code",
      "source": [
        "my_cat.speak()"
      ],
      "metadata": {
        "colab": {
          "base_uri": "https://localhost:8080/",
          "height": 35
        },
        "id": "Bu4rDuocz5T6",
        "outputId": "f993eaaa-b110-4e97-ea70-d89691c71d34"
      },
      "execution_count": null,
      "outputs": [
        {
          "output_type": "execute_result",
          "data": {
            "text/plain": [
              "'Miaudice MEOW'"
            ],
            "application/vnd.google.colaboratory.intrinsic+json": {
              "type": "string"
            }
          },
          "metadata": {},
          "execution_count": 19
        }
      ]
    },
    {
      "cell_type": "code",
      "source": [
        "for pet in [my_dog,my_cat]:\n",
        "    print(type(pet))\n",
        "    print(type(pet.speak()))\n",
        "    print(pet.speak())"
      ],
      "metadata": {
        "colab": {
          "base_uri": "https://localhost:8080/"
        },
        "id": "6JuHrwEOpUaD",
        "outputId": "341c322a-4596-4a22-892a-f0da8a697d97"
      },
      "execution_count": null,
      "outputs": [
        {
          "output_type": "stream",
          "name": "stdout",
          "text": [
            "<class '__main__.Doggy'>\n",
            "<class 'str'>\n",
            "dAKOTAdice WOOF\n",
            "<class '__main__.Caty'>\n",
            "<class 'str'>\n",
            "Miaudice MEOW\n"
          ]
        }
      ]
    },
    {
      "cell_type": "code",
      "source": [
        "#Ejercicio"
      ],
      "metadata": {
        "id": "XirhQ_Ws2Ng4"
      },
      "execution_count": null,
      "outputs": []
    },
    {
      "cell_type": "code",
      "source": [
        "class Messi ():\n",
        "    def __init__(self):\n",
        "      print(\"La clase de Messi se ha creado\")\n",
        "\n",
        "    def guess_who(self):\n",
        "        print(\"Yo soy Messi\")\n",
        "\n",
        "    def goles(self):\n",
        "        print (\"Llevo 35 goles de liga del 2014-2020\")"
      ],
      "metadata": {
        "id": "7ermEPLIpHHu"
      },
      "execution_count": null,
      "outputs": []
    },
    {
      "cell_type": "code",
      "source": [
        "messi = Messi() #cursor\n",
        "messi"
      ],
      "metadata": {
        "colab": {
          "base_uri": "https://localhost:8080/"
        },
        "id": "MQVxOI4crsjs",
        "outputId": "9ecb46bd-5a2e-4757-e8f6-b6bfe7613ea9"
      },
      "execution_count": null,
      "outputs": [
        {
          "output_type": "stream",
          "name": "stdout",
          "text": [
            "La clase de Messi se ha creado\n"
          ]
        },
        {
          "output_type": "execute_result",
          "data": {
            "text/plain": [
              "<__main__.Messi at 0x7a63c131a3b0>"
            ]
          },
          "metadata": {},
          "execution_count": 23
        }
      ]
    },
    {
      "cell_type": "code",
      "source": [
        "messi.guess_who()"
      ],
      "metadata": {
        "colab": {
          "base_uri": "https://localhost:8080/"
        },
        "id": "8Jm9DiJCryLP",
        "outputId": "eee9840a-9e38-49b4-8042-7b638f36768c"
      },
      "execution_count": null,
      "outputs": [
        {
          "output_type": "stream",
          "name": "stdout",
          "text": [
            "Yo soy Messi\n"
          ]
        }
      ]
    },
    {
      "cell_type": "code",
      "source": [
        "messi.goles()"
      ],
      "metadata": {
        "colab": {
          "base_uri": "https://localhost:8080/"
        },
        "id": "gaR2U4V9r1RY",
        "outputId": "a43627eb-e8c9-42f8-8a86-5c94a96e8802"
      },
      "execution_count": null,
      "outputs": [
        {
          "output_type": "stream",
          "name": "stdout",
          "text": [
            "Llevo 35 goles de liga del 2014-2020\n"
          ]
        }
      ]
    },
    {
      "cell_type": "code",
      "source": [
        "#EJERCICIO PAU"
      ],
      "metadata": {
        "id": "v3fgzogzsAuQ"
      },
      "execution_count": null,
      "outputs": []
    },
    {
      "cell_type": "code",
      "source": [
        "class Harry_Styles():\n",
        "  def __init__ (self, name, canciones, giras):\n",
        "    self.name =name\n",
        "    self.canciones = canciones\n",
        "    self.giras = giras\n",
        "\n",
        "  def nombre (self):\n",
        "      return self.name + \"Soy Harry Styles\"\n",
        "  def canciones (self):\n",
        "      return self.canciones + \"66\"\n",
        "  def giras (self):\n",
        "      return self.giras + \"25 giras en total\"\n",
        "\n"
      ],
      "metadata": {
        "id": "j4T9Kzb9sUGs"
      },
      "execution_count": null,
      "outputs": []
    },
    {
      "cell_type": "code",
      "source": [
        "harrystyles= Harry_Styles(\"Harry Styles\", 66, 25)\n",
        "harrystyles"
      ],
      "metadata": {
        "colab": {
          "base_uri": "https://localhost:8080/"
        },
        "id": "oSyB29MPts3-",
        "outputId": "8248cc94-e723-4b53-a7ab-8fc305d5af01"
      },
      "execution_count": null,
      "outputs": [
        {
          "output_type": "execute_result",
          "data": {
            "text/plain": [
              "<__main__.Harry_Styles at 0x7a63c131afe0>"
            ]
          },
          "metadata": {},
          "execution_count": 52
        }
      ]
    },
    {
      "cell_type": "code",
      "source": [
        "harrystyles.name"
      ],
      "metadata": {
        "colab": {
          "base_uri": "https://localhost:8080/",
          "height": 35
        },
        "id": "-4dvJ47EuM-J",
        "outputId": "cf788d2d-ade2-485f-cd9a-424c26fa169e"
      },
      "execution_count": null,
      "outputs": [
        {
          "output_type": "execute_result",
          "data": {
            "text/plain": [
              "'Harry Styles'"
            ],
            "application/vnd.google.colaboratory.intrinsic+json": {
              "type": "string"
            }
          },
          "metadata": {},
          "execution_count": 53
        }
      ]
    },
    {
      "cell_type": "code",
      "source": [
        "harrystyles.canciones"
      ],
      "metadata": {
        "colab": {
          "base_uri": "https://localhost:8080/"
        },
        "id": "BRaG3HmquUq1",
        "outputId": "cf7e102b-bdbe-4d03-c776-e3e308ff8fbf"
      },
      "execution_count": null,
      "outputs": [
        {
          "output_type": "execute_result",
          "data": {
            "text/plain": [
              "66"
            ]
          },
          "metadata": {},
          "execution_count": 54
        }
      ]
    },
    {
      "cell_type": "code",
      "source": [
        "harrystyles.giras"
      ],
      "metadata": {
        "colab": {
          "base_uri": "https://localhost:8080/"
        },
        "id": "6GB7fKYduXnu",
        "outputId": "ff33f862-a35b-42e1-dc6d-161538a6303a"
      },
      "execution_count": null,
      "outputs": [
        {
          "output_type": "execute_result",
          "data": {
            "text/plain": [
              "25"
            ]
          },
          "metadata": {},
          "execution_count": 55
        }
      ]
    },
    {
      "cell_type": "markdown",
      "source": [
        "#Ejemplo financiero"
      ],
      "metadata": {
        "id": "K05f0SPYwCwp"
      }
    },
    {
      "cell_type": "code",
      "source": [
        "from abc import ABC,abstractmethod\n",
        "from scipy.stats import norm\n",
        "import numpy as np"
      ],
      "metadata": {
        "id": "jQANErxgv-qp"
      },
      "execution_count": null,
      "outputs": []
    }
  ]
}